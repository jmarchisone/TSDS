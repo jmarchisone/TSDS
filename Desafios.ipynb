{
 "cells": [
  {
   "cell_type": "markdown",
   "metadata": {},
   "source": [
    "1- Escriba un programa que pida al usuario un entero de tres dígitos, y entregue el\n",
    "número con los dígitos en orden inverso:"
   ]
  },
  {
   "cell_type": "code",
   "execution_count": null,
   "metadata": {},
   "outputs": [],
   "source": [
    "while True:\n",
    "    try:\n",
    "        numero = int(input(\"Ingrese un número entero: \"))\n",
    "        str_numero = str(numero)\n",
    "        inverso = \"\"\n",
    "        for i in str_numero:\n",
    "            inverso = i + inverso\n",
    "        print(inverso)\n",
    "        break\n",
    "    except ValueError:\n",
    "        print(\"Ingreso inválido.\")"
   ]
  },
  {
   "cell_type": "markdown",
   "metadata": {},
   "source": [
    "2- Escriba un programa que pregunte al usuario la hora actual t del reloj y un número\n",
    "entero de horas h, que indique qué hora marcará el reloj dentro de h horas:"
   ]
  },
  {
   "cell_type": "code",
   "execution_count": null,
   "metadata": {},
   "outputs": [],
   "source": [
    "hora_actual = int(input(\"Ingrese la hora actual: \"))\n",
    "horas_agregadas = int(input(\"Cuantas horas se agregaran? \"))\n",
    "print(f\"En {horas_agregadas} horas, el reloj marcará las {(hora_actual + horas_agregadas) % 12} horas.\")"
   ]
  },
  {
   "cell_type": "markdown",
   "metadata": {},
   "source": [
    "3- Escribir un programa que pida al usuario un número entero y muestre por pantalla si\n",
    "es un número primo o no."
   ]
  },
  {
   "cell_type": "code",
   "execution_count": null,
   "metadata": {},
   "outputs": [],
   "source": [
    "numero = int(input(\"Ingrese un número entero: \"))\n",
    "primo = True\n",
    "for i in range(2,numero):\n",
    "    if numero % i == 0:\n",
    "        primo = False\n",
    "        break\n",
    "if primo:\n",
    "    print(\"Es primo.\")\n",
    "else:\n",
    "    print(f\"No es primo, {i} es divisor.\")\n",
    "    "
   ]
  },
  {
   "cell_type": "markdown",
   "metadata": {},
   "source": [
    "4- Tiempo de viaje. Un viajero desea saber cuánto tiempo tomó un viaje que realizó. Él\n",
    "tiene la duración en minutos de cada uno de los tramos del viaje.\n",
    "Desarrolle un programa que permita ingresar los tiempos de viaje de los tramos y\n",
    "entregue como resultado el tiempo total de viaje en formato horas:minutos.\n",
    "El programa deja de pedir tiempos de viaje cuando se ingresa un 0."
   ]
  },
  {
   "cell_type": "code",
   "execution_count": 2,
   "metadata": {},
   "outputs": [
    {
     "name": "stdout",
     "output_type": "stream",
     "text": [
      "El tiempo total es de 2:0hs\n"
     ]
    }
   ],
   "source": [
    "tiempo_total = 0\n",
    "while True:\n",
    "    tiempo = int(input(\"Ingrese los minutos del tramo, o 0 para finalizar: \"))\n",
    "    tiempo_total += tiempo\n",
    "    if tiempo == 0:\n",
    "        break\n",
    "print(f\"El tiempo total es de {tiempo_total // 60}:{tiempo_total % 60} hs\")\n",
    "\n"
   ]
  },
  {
   "cell_type": "markdown",
   "metadata": {},
   "source": []
  }
 ],
 "metadata": {
  "kernelspec": {
   "display_name": "Python 3",
   "language": "python",
   "name": "python3"
  },
  "language_info": {
   "codemirror_mode": {
    "name": "ipython",
    "version": 3
   },
   "file_extension": ".py",
   "mimetype": "text/x-python",
   "name": "python",
   "nbconvert_exporter": "python",
   "pygments_lexer": "ipython3",
   "version": "3.12.2"
  }
 },
 "nbformat": 4,
 "nbformat_minor": 2
}
