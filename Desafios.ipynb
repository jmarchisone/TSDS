{
 "cells": [
  {
   "cell_type": "markdown",
   "metadata": {},
   "source": [
    "1- Escriba un programa que pida al usuario un entero de tres dígitos, y entregue el\n",
    "número con los dígitos en orden inverso:"
   ]
  },
  {
   "cell_type": "code",
   "execution_count": null,
   "metadata": {},
   "outputs": [],
   "source": [
    "while True:\n",
    "    try:\n",
    "        numero = int(input(\"Ingrese un número entero: \"))\n",
    "        str_numero = str(numero)\n",
    "        inverso = \"\"\n",
    "        for i in str_numero:\n",
    "            inverso = i + inverso\n",
    "        print(inverso)\n",
    "        break\n",
    "    except ValueError:\n",
    "        print(\"Ingreso inválido.\")"
   ]
  },
  {
   "cell_type": "markdown",
   "metadata": {},
   "source": [
    "2- Escriba un programa que pregunte al usuario la hora actual t del reloj y un número\n",
    "entero de horas h, que indique qué hora marcará el reloj dentro de h horas:"
   ]
  },
  {
   "cell_type": "code",
   "execution_count": null,
   "metadata": {},
   "outputs": [],
   "source": [
    "hora_actual = int(input(\"Ingrese la hora actual: \"))\n",
    "horas_agregadas = int(input(\"Cuantas horas se agregaran? \"))\n",
    "print(f\"En {horas_agregadas} horas, el reloj marcará las {(hora_actual + horas_agregadas) % 12} horas.\")"
   ]
  },
  {
   "cell_type": "markdown",
   "metadata": {},
   "source": [
    "3- Escribir un programa que pida al usuario un número entero y muestre por pantalla si\n",
    "es un número primo o no."
   ]
  },
  {
   "cell_type": "code",
   "execution_count": null,
   "metadata": {},
   "outputs": [],
   "source": [
    "numero = int(input(\"Ingrese un número entero: \"))\n",
    "primo = True\n",
    "for i in range(2,numero):\n",
    "    if numero % i == 0:\n",
    "        primo = False\n",
    "        break\n",
    "if primo:\n",
    "    print(\"Es primo.\")\n",
    "else:\n",
    "    print(f\"No es primo, {i} es divisor.\")\n",
    "    "
   ]
  },
  {
   "cell_type": "markdown",
   "metadata": {},
   "source": [
    "4- Tiempo de viaje. Un viajero desea saber cuánto tiempo tomó un viaje que realizó. Él\n",
    "tiene la duración en minutos de cada uno de los tramos del viaje.\n",
    "Desarrolle un programa que permita ingresar los tiempos de viaje de los tramos y\n",
    "entregue como resultado el tiempo total de viaje en formato horas:minutos.\n",
    "El programa deja de pedir tiempos de viaje cuando se ingresa un 0."
   ]
  },
  {
   "cell_type": "code",
   "execution_count": null,
   "metadata": {},
   "outputs": [],
   "source": [
    "tiempo_total = 0\n",
    "while True:\n",
    "    tiempo = int(input(\"Ingrese los minutos del tramo, o 0 para finalizar: \"))\n",
    "    tiempo_total += tiempo\n",
    "    if tiempo == 0:\n",
    "        break\n",
    "print(f\"El tiempo total es de {tiempo_total // 60}:{tiempo_total % 60} hs\")\n",
    "\n"
   ]
  },
  {
   "cell_type": "markdown",
   "metadata": {},
   "source": [
    "5- Cuando la Tierra completa una órbita alrededor del Sol, no han transcurrido\n",
    "exactamente 365 rotaciones sobre sí misma, sino un poco más. Más precisamente, la\n",
    "diferencia es de más o menos un cuarto de día.\n",
    "Para evitar que las estaciones se desfasen con el calendario, el calendario juliano\n",
    "introdujo la regla de introducir un día adicional en los años divisibles por 4 (llamados\n",
    "bisiestos), para tomar en consideración los cuatro cuartos de día acumulados.\n",
    "Sin embargo, bajo esta regla sigue habiendo un desfase, que es de aproximadamente\n",
    "3/400 de día.\n",
    "Para corregir este desfase, en el año 1582 el papa Gregorio XIII introdujo un nuevo\n",
    "calendario, en el que el último año de cada siglo dejaba de ser bisiesto, a no ser que\n",
    "fuera divisible por 400.\n",
    "Escriba un programa que indique si un año es bisiesto o no, teniendo en cuenta cuál era\n",
    "el calendario vigente en ese año:"
   ]
  },
  {
   "cell_type": "code",
   "execution_count": null,
   "metadata": {},
   "outputs": [],
   "source": [
    "anio = int(input(\"Ingrese un año a evaluar: \"))\n",
    "if anio >= 1582:\n",
    "    if anio % 4 == 0 and (anio % 100 != 0 or anio % 400 == 0):\n",
    "        print(f\"El año {anio} es bisiesto.\")\n",
    "    else:\n",
    "        print(f\"El año {anio} no es bisiesto.\")\n",
    "else:\n",
    "    if anio % 4 == 0:\n",
    "        print(f\"El año {anio} es bisiesto.\")\n",
    "    else:\n",
    "        print(f\"El año {anio} no es bisiesto.\")"
   ]
  },
  {
   "cell_type": "markdown",
   "metadata": {},
   "source": [
    "6- Escribir un programa que pida al usuario un número entero y muestre por pantalla un\n",
    "triángulo rectángulo como el de más abajo con tantos renglones como indique el\n",
    "usuario."
   ]
  },
  {
   "cell_type": "code",
   "execution_count": null,
   "metadata": {},
   "outputs": [],
   "source": [
    "renglones = int(input(\"Ingrese la cantidad de renglones: \"))\n",
    "triangulo = \"\"\n",
    "for i in range(1, renglones+1):\n",
    "    triangulo += str(2 * i) + \" \"\n",
    "    print(triangulo)\n"
   ]
  },
  {
   "cell_type": "markdown",
   "metadata": {},
   "source": [
    "7- La secuencia de Collatz de un número entero se construye de la siguiente forma:\n",
    "\n",
    "● si el número es par, se lo divide por dos;\n",
    "\n",
    "● si es impar, se le multiplica tres y se le suma uno;\n",
    "\n",
    "● La sucesión termina al llegar a uno.\n",
    "\n",
    "Desarrolle un programa que entregue la secuencia de Collatz de un número entero:"
   ]
  },
  {
   "cell_type": "code",
   "execution_count": null,
   "metadata": {},
   "outputs": [],
   "source": [
    "numero = int(input(\"Ingrese un número entero: \"))\n",
    "secuencia = \"\"\n",
    "while numero != 1:\n",
    "    secuencia += str(numero) + \" \"\n",
    "    if numero % 2 == 0:\n",
    "        numero = numero // 2\n",
    "    else:\n",
    "        numero = 3 * numero + 1\n",
    "print(secuencia + \"1\")"
   ]
  },
  {
   "cell_type": "markdown",
   "metadata": {},
   "source": [
    "8- Este problema apareció en el certamen recuperativo 1 del segundo semestre de 2011\n",
    "en el campus Vitacura.\n",
    "Una máquina de alimentos tiene productos de tres tipos, A, B y C, que valen\n",
    "respectivamente $270, $340 y $390. La máquina acepta y da de vuelto monedas de $10,\n",
    "$50 y $100.\n",
    "Escriba un programa que pida al usuario elegir el producto y luego le pida ingresar las\n",
    "monedas hasta alcanzar el monto a pagar. Si el monto ingresado es mayor que el precio\n",
    "del producto, el programa debe entregar las monedas de vuelto, una por una."
   ]
  },
  {
   "cell_type": "code",
   "execution_count": 33,
   "metadata": {},
   "outputs": [
    {
     "name": "stdout",
     "output_type": "stream",
     "text": [
      "Su vuelto es 30: 0 monedas de 100, 0 monedas de 50, y 3 monedas de 10.\n"
     ]
    }
   ],
   "source": [
    "productos = {\"A\":270,\"B\":340,\"C\":390}\n",
    "compra = str(input(\"Ingrese el producto a comprar: \"))\n",
    "monedas = int(input(\"Ingrese monedas, o ingrese 0 para finalizar: \"))\n",
    "saldo = monedas\n",
    "while monedas != 0:\n",
    "    monedas = int(input(\"Ingrese monedas, o ingrese 0 para finalizar: \"))\n",
    "    saldo += monedas\n",
    "vuelto = saldo - productos[compra.upper()]\n",
    "print (f\"Su vuelto es {vuelto}: {vuelto // 100} monedas de 100, {vuelto % 100 // 50} monedas de 50, y {vuelto % 100 % 50 // 10} monedas de 10.\")\n",
    "        "
   ]
  }
 ],
 "metadata": {
  "kernelspec": {
   "display_name": "Python 3",
   "language": "python",
   "name": "python3"
  },
  "language_info": {
   "codemirror_mode": {
    "name": "ipython",
    "version": 3
   },
   "file_extension": ".py",
   "mimetype": "text/x-python",
   "name": "python",
   "nbconvert_exporter": "python",
   "pygments_lexer": "ipython3",
   "version": "3.12.2"
  }
 },
 "nbformat": 4,
 "nbformat_minor": 2
}
